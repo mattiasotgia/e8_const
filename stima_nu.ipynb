{
 "cells": [
  {
   "cell_type": "code",
   "execution_count": 2,
   "id": "ec8010b9-8def-4c22-a69f-7ec45dc1ba47",
   "metadata": {},
   "outputs": [
    {
     "name": "stdout",
     "output_type": "stream",
     "text": [
      "6.66(6)e+14\n"
     ]
    }
   ],
   "source": [
    "from uncertainties import ufloat\n",
    "from scipy.constants import c\n",
    "import numpy as np\n",
    "ν, σ_ν = c/450e-9, c/(450e-9**2) * 10e-9 / (2 * np.log(2 + np.sqrt(3)))\n",
    "print(f'{ufloat(ν,σ_ν):uS}')"
   ]
  },
  {
   "cell_type": "code",
   "execution_count": null,
   "id": "118cdec5-c056-43d3-ba14-569efae8cc39",
   "metadata": {},
   "outputs": [],
   "source": []
  }
 ],
 "metadata": {
  "kernelspec": {
   "display_name": "Python 3",
   "language": "python",
   "name": "python3"
  },
  "language_info": {
   "codemirror_mode": {
    "name": "ipython",
    "version": 3
   },
   "file_extension": ".py",
   "mimetype": "text/x-python",
   "name": "python",
   "nbconvert_exporter": "python",
   "pygments_lexer": "ipython3",
   "version": "3.9.12"
  }
 },
 "nbformat": 4,
 "nbformat_minor": 5
}
