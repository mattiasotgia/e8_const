{
 "cells": [
  {
   "cell_type": "code",
   "execution_count": 1,
   "id": "7f031c51-f9af-4af5-8f6b-840e8542c0b9",
   "metadata": {},
   "outputs": [
    {
     "name": "stdout",
     "output_type": "stream",
     "text": [
      "Welcome to JupyROOT 6.24/02\n"
     ]
    }
   ],
   "source": [
    "import matplotlib as mpl\n",
    "import matplotlib.pyplot as plt\n",
    "import numpy as np\n",
    "from scipy.constants import c\n",
    "\n",
    "import iminuit \n",
    "from iminuit import Minuit, cost\n",
    "import ROOT\n",
    "\n",
    "import mplhep as hep\n",
    "mpl.style.use(hep.style.ATLAS)\n"
   ]
  },
  {
   "cell_type": "markdown",
   "id": "5d080236-0f5e-4063-b37b-2caa697b3071",
   "metadata": {},
   "source": [
    "Analisi per ottenere valore di $\\gamma$. Conosciamo la relazione di fit che è $$ I = \\alpha\\cdot V^{\\frac{4\\gamma-1}{4\\gamma+1}} $$"
   ]
  },
  {
   "cell_type": "code",
   "execution_count": 2,
   "id": "1016b511-2c00-4ec7-aa92-169a69f808bc",
   "metadata": {},
   "outputs": [
    {
     "data": {
      "text/html": [
       "<table>\n",
       "    <tr>\n",
       "        <th colspan=\"5\" style=\"text-align:center\" title=\"Minimizer\"> Migrad </th>\n",
       "    </tr>\n",
       "    <tr>\n",
       "        <td colspan=\"2\" style=\"text-align:left\" title=\"Minimum value of function\"> FCN = 1.791e+04 (chi2/ndof = 182.7) </td>\n",
       "        <td colspan=\"3\" style=\"text-align:center\" title=\"Total number of function and (optional) gradient evaluations\"> Nfcn = 61 </td>\n",
       "    </tr>\n",
       "    <tr>\n",
       "        <td colspan=\"2\" style=\"text-align:left\" title=\"Estimated distance to minimum and goal\"> EDM = 5.43e-08 (Goal: 0.0002) </td>\n",
       "        <td colspan=\"3\" style=\"text-align:center\" title=\"Total run time of algorithms\">  </td>\n",
       "    </tr>\n",
       "    <tr>\n",
       "        <td colspan=\"2\" style=\"text-align:center;background-color:#92CCA6;color:black\"> Valid Minimum </td>\n",
       "        <td colspan=\"3\" style=\"text-align:center;background-color:#92CCA6;color:black\"> No Parameters at limit </td>\n",
       "    </tr>\n",
       "    <tr>\n",
       "        <td colspan=\"2\" style=\"text-align:center;background-color:#92CCA6;color:black\"> Below EDM threshold (goal x 10) </td>\n",
       "        <td colspan=\"3\" style=\"text-align:center;background-color:#92CCA6;color:black\"> Below call limit </td>\n",
       "    </tr>\n",
       "    <tr>\n",
       "        <td style=\"text-align:center;background-color:#92CCA6;color:black\"> Covariance </td>\n",
       "        <td style=\"text-align:center;background-color:#92CCA6;color:black\"> Hesse ok </td>\n",
       "        <td style=\"text-align:center;background-color:#92CCA6;color:black\" title=\"Is covariance matrix accurate?\"> Accurate </td>\n",
       "        <td style=\"text-align:center;background-color:#92CCA6;color:black\" title=\"Is covariance matrix positive definite?\"> Pos. def. </td>\n",
       "        <td style=\"text-align:center;background-color:#92CCA6;color:black\" title=\"Was positive definiteness enforced by Minuit?\"> Not forced </td>\n",
       "    </tr>\n",
       "</table><table>\n",
       "    <tr>\n",
       "        <td></td>\n",
       "        <th title=\"Variable name\"> Name </th>\n",
       "        <th title=\"Value of parameter\"> Value </th>\n",
       "        <th title=\"Hesse error\"> Hesse Error </th>\n",
       "        <th title=\"Minos lower error\"> Minos Error- </th>\n",
       "        <th title=\"Minos upper error\"> Minos Error+ </th>\n",
       "        <th title=\"Lower limit of the parameter\"> Limit- </th>\n",
       "        <th title=\"Upper limit of the parameter\"> Limit+ </th>\n",
       "        <th title=\"Is the parameter fixed in the fit\"> Fixed </th>\n",
       "    </tr>\n",
       "    <tr>\n",
       "        <th> 0 </th>\n",
       "        <td> α </td>\n",
       "        <td> 11.9805e-3 </td>\n",
       "        <td> 0.0027e-3 </td>\n",
       "        <td>  </td>\n",
       "        <td>  </td>\n",
       "        <td>  </td>\n",
       "        <td>  </td>\n",
       "        <td>  </td>\n",
       "    </tr>\n",
       "    <tr>\n",
       "        <th> 1 </th>\n",
       "        <td> γ </td>\n",
       "        <td> 877.69e-3 </td>\n",
       "        <td> 0.24e-3 </td>\n",
       "        <td>  </td>\n",
       "        <td>  </td>\n",
       "        <td>  </td>\n",
       "        <td>  </td>\n",
       "        <td>  </td>\n",
       "    </tr>\n",
       "</table><table>\n",
       "    <tr>\n",
       "        <td></td>\n",
       "        <th> α </th>\n",
       "        <th> γ </th>\n",
       "    </tr>\n",
       "    <tr>\n",
       "        <th> α </th>\n",
       "        <td> 7.22e-12 </td>\n",
       "        <td style=\"background-color:rgb(126,126,250);color:black\"> -6.12e-10 <strong>(-0.956)</strong> </td>\n",
       "    </tr>\n",
       "    <tr>\n",
       "        <th> γ </th>\n",
       "        <td style=\"background-color:rgb(126,126,250);color:black\"> -6.12e-10 <strong>(-0.956)</strong> </td>\n",
       "        <td> 5.68e-08 </td>\n",
       "    </tr>\n",
       "</table>"
      ],
      "text/plain": [
       "┌─────────────────────────────────────────────────────────────────────────┐\n",
       "│                                Migrad                                   │\n",
       "├──────────────────────────────────┬──────────────────────────────────────┤\n",
       "│ FCN = 1.791e+04 (chi2/ndof = 182.7)│              Nfcn = 61               │\n",
       "│ EDM = 5.43e-08 (Goal: 0.0002)    │                                      │\n",
       "├──────────────────────────────────┼──────────────────────────────────────┤\n",
       "│          Valid Minimum           │        No Parameters at limit        │\n",
       "├──────────────────────────────────┼──────────────────────────────────────┤\n",
       "│ Below EDM threshold (goal x 10)  │           Below call limit           │\n",
       "├───────────────┬──────────────────┼───────────┬─────────────┬────────────┤\n",
       "│  Covariance   │     Hesse ok     │ Accurate  │  Pos. def.  │ Not forced │\n",
       "└───────────────┴──────────────────┴───────────┴─────────────┴────────────┘\n",
       "┌───┬──────┬───────────┬───────────┬────────────┬────────────┬─────────┬─────────┬───────┐\n",
       "│   │ Name │   Value   │ Hesse Err │ Minos Err- │ Minos Err+ │ Limit-  │ Limit+  │ Fixed │\n",
       "├───┼──────┼───────────┼───────────┼────────────┼────────────┼─────────┼─────────┼───────┤\n",
       "│ 0 │ α    │11.9805e-3 │ 0.0027e-3 │            │            │         │         │       │\n",
       "│ 1 │ γ    │ 877.69e-3 │  0.24e-3  │            │            │         │         │       │\n",
       "└───┴──────┴───────────┴───────────┴────────────┴────────────┴─────────┴─────────┴───────┘\n",
       "┌───┬─────────────────────┐\n",
       "│   │         α         γ │\n",
       "├───┼─────────────────────┤\n",
       "│ α │  7.22e-12 -6.12e-10 │\n",
       "│ γ │ -6.12e-10  5.68e-08 │\n",
       "└───┴─────────────────────┘"
      ]
     },
     "execution_count": 2,
     "metadata": {},
     "output_type": "execute_result"
    }
   ],
   "source": [
    "V, μ_I, σ_I = np.loadtxt('dati_offline_prelim/lamp.txt', unpack=True)\n",
    "\n",
    "def f(V, α, γ):\n",
    "    return α*(V**((4*γ-1)/(4*γ+1)))\n",
    "\n",
    "χ2= cost.LeastSquares(V, μ_I, σ_I, model=f)\n",
    "\n",
    "m_γ = Minuit(χ2, α=1e-2, γ=0.8)\n",
    "m_γ.migrad()"
   ]
  },
  {
   "cell_type": "code",
   "execution_count": 3,
   "id": "21ecf930-4d28-4de3-b5f7-caa8ebd6adae",
   "metadata": {},
   "outputs": [
    {
     "data": {
      "text/plain": [
       "<matplotlib.legend.Legend at 0x120f48670>"
      ]
     },
     "execution_count": 3,
     "metadata": {},
     "output_type": "execute_result"
    },
    {
     "data": {
      "image/png": "[encoded data removed]",
      "text/plain": [
       "<Figure size 432x288 with 1 Axes>"
      ]
     },
     "metadata": {
      "image/png": {
       "height": 300,
       "width": 404
      },
      "needs_background": "light"
     },
     "output_type": "display_data"
    }
   ],
   "source": [
    "fig, ax = plt.subplots()\n",
    "\n",
    "ax.set_xlabel('$V_{in}$ [V]')\n",
    "ax.set_ylabel('$I$  [A]')\n",
    "ax.errorbar(V, μ_I, σ_I, fmt='k.', markersize=4, label='Data')\n",
    "ax.plot(V, f(V, *m_γ.values), 'r', label='Fit')\n",
    "ax.legend()"
   ]
  },
  {
   "cell_type": "code",
   "execution_count": 6,
   "id": "859e576e-64b8-41c3-9d0c-1bbc4e416593",
   "metadata": {},
   "outputs": [],
   "source": [
    "fig.savefig('report/fig/gamma_plot.pdf', bbox_inches='tight')"
   ]
  },
  {
   "cell_type": "code",
   "execution_count": 7,
   "id": "396e195a-cdc1-481a-8f1a-a74c09232942",
   "metadata": {},
   "outputs": [
    {
     "name": "stdout",
     "output_type": "stream",
     "text": [
      "γ = 0.877687(238)\n"
     ]
    },
    {
     "data": {
      "text/plain": [
       "0.0002715560568118119"
      ]
     },
     "execution_count": 7,
     "metadata": {},
     "output_type": "execute_result"
    }
   ],
   "source": [
    "γ, σ_γ = m_γ.values['γ'], m_γ.errors['γ']\n",
    "\n",
    "from uncertainties import ufloat\n",
    "print(f'γ = {ufloat(γ, σ_γ):.3uS}')\n",
    "\n",
    "σ_γ/γ"
   ]
  },
  {
   "cell_type": "code",
   "execution_count": 42,
   "id": "7e67cadf-f360-4b4b-8e91-46954586f81a",
   "metadata": {},
   "outputs": [],
   "source": [
    "\n",
    "V, μ_I, σ_I, μ_Vfd, σ_Vfd = np.loadtxt('dati_offline_prelim/ph_diode.txt', unpack=True)\n",
    "\n",
    "T_amb = 299.7\n",
    "σ_T_amb = 0.7\n",
    "R_amb, σ_R_amb = 25.045, 0.21551350000000002\n",
    "\n",
    "ν, σ_ν = c/450e-9, c/(450e-9**2) * 10e-9 / (2 * np.log(2 + np.sqrt(3)))\n",
    "\n",
    "def log_0j(V0, Vi):\n",
    "    return np.log(Vi/V0)\n",
    "\n",
    "def T_0j(T0, Ti, ν):\n",
    "    return ν*(1/T0-1/Ti)\n",
    "\n",
    "def T(T_amb, R_amb, V, I, γ):\n",
    "    return T_amb * ( V/(I*R_amb) )**γ\n",
    "\n",
    "μ_T = T(T_amb, R_amb, V, μ_I, γ)\n",
    "\n",
    "LOG = np.array([\n",
    "    log_0j(μ_Vfd[0], μ_Vfdi) for μ_Vfdi in μ_Vfd\n",
    "])\n",
    "\n",
    "TEMP_DIFF =  np.array([\n",
    "    T_0j(μ_T[0], μ_Ti, ν) for μ_Ti in μ_T\n",
    "])\n",
    "\n",
    "\n"
   ]
  },
  {
   "cell_type": "code",
   "execution_count": 43,
   "id": "57e5d424-6a90-4aed-b322-20efbb2aecb1",
   "metadata": {},
   "outputs": [],
   "source": [
    "\n",
    "σ_LOG = np.zeros_like(LOG)\n",
    "\n",
    "for i in range(len(LOG)):\n",
    "    σ2 = 0.0\n",
    "    σ_Vi_p = np.abs(log_0j(μ_Vfd[0], μ_Vfd[i] + σ_Vfd[i]) - LOG[i])\n",
    "    σ_Vi_n = np.abs(log_0j(μ_Vfd[0], μ_Vfd[i] - σ_Vfd[i]) - LOG[i])\n",
    "    σ2 += np.max([σ_Vi_p, σ_Vi_n])**2\n",
    "    \n",
    "    σ_LOG[i] += np.sqrt(σ2)\n"
   ]
  },
  {
   "cell_type": "code",
   "execution_count": 44,
   "id": "e98bb0cf-fa7c-4f25-8078-c652ad6de37f",
   "metadata": {},
   "outputs": [
    {
     "name": "stdout",
     "output_type": "stream",
     "text": [
      "h/k = 3.266141(257)e-11\n",
      "\n"
     ]
    },
    {
     "data": {
      "text/plain": [
       "7.8736129324078e-05"
      ]
     },
     "execution_count": 44,
     "metadata": {},
     "output_type": "execute_result"
    },
    {
     "name": "stdout",
     "output_type": "stream",
     "text": [
      " FCN=148712 FROM MIGRAD    STATUS=CONVERGED      39 CALLS          40 TOTAL\n",
      "                     EDM=2.36032e-16    STRATEGY= 1      ERROR MATRIX ACCURATE \n",
      "  EXT PARAMETER                                   STEP         FIRST   \n",
      "  NO.   NAME      VALUE            ERROR          SIZE      DERIVATIVE \n",
      "   1  p0           3.26614e-11   2.57163e-15   1.84842e-16  -1.96815e+06\n",
      "   2  p1          -1.66721e-02   7.25809e-05   5.21693e-06  -3.62617e-04\n"
     ]
    }
   ],
   "source": [
    "\n",
    "\n",
    "f_hk = ROOT.TF1('f_hk', '[0]*x + [1]')\n",
    "f_hk.SetParameters(4e-11, 0.)\n",
    "\n",
    "g_hk0 = ROOT.TGraphErrors(len(LOG), TEMP_DIFF.ravel(), LOG.ravel(), np.zeros_like(TEMP_DIFF).ravel(), σ_LOG.ravel())\n",
    "g_hk0.Fit('f_hk', 'S')\n",
    "\n",
    "μ_hk_bias = f_hk.GetParameter(0)\n",
    "σ_hk_bias = f_hk.GetParError(0)\n",
    "\n",
    "print(f'h/k = {ufloat(μ_hk_bias, σ_hk_bias):.3uS}\\n')\n",
    "\n",
    "relative_uncertainty = σ_hk_bias / μ_hk_bias\n",
    "relative_uncertainty"
   ]
  },
  {
   "cell_type": "code",
   "execution_count": 54,
   "id": "de438065-853c-4305-b186-8bc9d398d049",
   "metadata": {},
   "outputs": [],
   "source": [
    "\n",
    "\n",
    "def hk_sigma(_T_amb, _R_amb, _μ_I, _γ,  _ν, _μ_Vfd, _V, hk_true):\n",
    "    \n",
    "    def _log_0j(_V0, _Vi):\n",
    "        return np.log(_Vi/_V0)\n",
    "\n",
    "    def _T_0j(_T0, _Ti, _ν):\n",
    "        return _ν*(1/_T0-1/_Ti)\n",
    "\n",
    "    def _T(_T_amb, _R_amb, _V, _I, _γ):\n",
    "        return _T_amb * ( _V/(_I*_R_amb) )**_γ\n",
    "\n",
    "    _μ_T = _T(_T_amb, _R_amb, _V, _μ_I, _γ)\n",
    "\n",
    "    _LOG = np.array([\n",
    "        _log_0j(_μ_Vfd[0], _μ_Vfdi) for _μ_Vfdi in _μ_Vfd\n",
    "    ])\n",
    "\n",
    "    _TEMP_DIFF =  np.array([\n",
    "        _T_0j(_μ_T[0], _μ_Ti, _ν) for _μ_Ti in _μ_T\n",
    "    ])\n",
    "\n",
    "    \n",
    "    _f_hk = ROOT.TF1('_f_hk', '[0]*x + [1]')\n",
    "    _f_hk.SetParameters(4e-11, 0.)\n",
    "\n",
    "    _g_hk0 = ROOT.TGraphErrors(len(LOG), _TEMP_DIFF.ravel(), _LOG.ravel(), np.zeros_like(_TEMP_DIFF).ravel(), σ_LOG.ravel())\n",
    "    _g_hk0.Fit('_f_hk', 'S')\n",
    "    \n",
    "    _σ_hk_bias = _f_hk.GetParameter(0)\n",
    "    \n",
    "    return np.abs(_σ_hk_bias - hk_true)"
   ]
  },
  {
   "cell_type": "code",
   "execution_count": 55,
   "id": "bb26cad4-0000-460b-8e18-9ddf84d4cb5f",
   "metadata": {},
   "outputs": [
    {
     "data": {
      "text/plain": [
       "((7.628625171784221e-14, 7.628625171692456e-14),\n",
       " (2.4470025334694855e-13, 2.4868623168992586e-13),\n",
       " (2.7325733471594883e-13, 2.7790748608392226e-13),\n",
       " (1.1247034691713625e-14, 1.1240761521742903e-14))"
      ]
     },
     "execution_count": 55,
     "metadata": {},
     "output_type": "execute_result"
    },
    {
     "name": "stdout",
     "output_type": "stream",
     "text": [
      " FCN=148712 FROM MIGRAD    STATUS=CONVERGED      41 CALLS          42 TOTAL\n",
      "                     EDM=7.10716e-15    STRATEGY= 1      ERROR MATRIX ACCURATE \n",
      "  EXT PARAMETER                                   STEP         FIRST   \n",
      "  NO.   NAME      VALUE            ERROR          SIZE      DERIVATIVE \n",
      "   1  p0           3.27377e-11   2.57764e-15   1.85274e-16  -1.17814e+06\n",
      "   2  p1          -1.66721e-02   7.25809e-05   5.21693e-06   1.60388e-03\n",
      " FCN=148712 FROM MIGRAD    STATUS=CONVERGED      39 CALLS          40 TOTAL\n",
      "                     EDM=1.77974e-16    STRATEGY= 1      ERROR MATRIX ACCURATE \n",
      "  EXT PARAMETER                                   STEP         FIRST   \n",
      "  NO.   NAME      VALUE            ERROR          SIZE      DERIVATIVE \n",
      "   1  p0           3.25851e-11   2.56563e-15   1.84411e-16   3.55097e+06\n",
      "   2  p1          -1.66721e-02   7.25809e-05   5.21693e-06  -1.39468e-04\n",
      " FCN=148712 FROM MIGRAD    STATUS=CONVERGED      41 CALLS          42 TOTAL\n",
      "                     EDM=1.70298e-15    STRATEGY= 1      ERROR MATRIX ACCURATE \n",
      "  EXT PARAMETER                                   STEP         FIRST   \n",
      "  NO.   NAME      VALUE            ERROR          SIZE      DERIVATIVE \n",
      "   1  p0           3.24167e-11   2.55237e-15   1.83458e-16  -1.98301e+06\n",
      "   2  p1          -1.66721e-02   7.25809e-05   5.21693e-06   7.39182e-04\n",
      " FCN=148712 FROM MIGRAD    STATUS=CONVERGED      39 CALLS          40 TOTAL\n",
      "                     EDM=1.89877e-17    STRATEGY= 1      ERROR MATRIX ACCURATE \n",
      "  EXT PARAMETER                                   STEP         FIRST   \n",
      "  NO.   NAME      VALUE            ERROR          SIZE      DERIVATIVE \n",
      "   1  p0           3.29101e-11   2.59121e-15   1.86250e-16  -2.73459e+06\n",
      "   2  p1          -1.66721e-02   7.25809e-05   5.21693e-06  -1.39468e-05\n",
      " FCN=148712 FROM MIGRAD    STATUS=CONVERGED      41 CALLS          42 TOTAL\n",
      "                     EDM=6.83403e-16    STRATEGY= 1      ERROR MATRIX ACCURATE \n",
      "  EXT PARAMETER                                   STEP         FIRST   \n",
      "  NO.   NAME      VALUE            ERROR          SIZE      DERIVATIVE \n",
      "   1  p0           3.23882e-11   2.55012e-15   1.83296e-16   3.17561e+06\n",
      "   2  p1          -1.66721e-02   7.25809e-05   5.21693e-06  -4.04458e-04\n",
      " FCN=148712 FROM MIGRAD    STATUS=CONVERGED      41 CALLS          42 TOTAL\n",
      "                     EDM=8.41448e-15    STRATEGY= 1      ERROR MATRIX ACCURATE \n",
      "  EXT PARAMETER                                   STEP         FIRST   \n",
      "  NO.   NAME      VALUE            ERROR          SIZE      DERIVATIVE \n",
      "   1  p0           3.29393e-11   2.59352e-15   1.86415e-16   7.80618e+05\n",
      "   2  p1          -1.66721e-02   7.25809e-05   5.21693e-06   1.81309e-03\n",
      " FCN=148768 FROM MIGRAD    STATUS=CONVERGED      39 CALLS          40 TOTAL\n",
      "                     EDM=7.10367e-17    STRATEGY= 1      ERROR MATRIX ACCURATE \n",
      "  EXT PARAMETER                                   STEP         FIRST   \n",
      "  NO.   NAME      VALUE            ERROR          SIZE      DERIVATIVE \n",
      "   1  p0           3.26727e-11   2.57252e-15   1.84940e-16   1.96712e+06\n",
      "   2  p1          -1.66792e-02   7.25814e-05   5.21791e-06  -9.76094e-05\n",
      " FCN=148656 FROM MIGRAD    STATUS=CONVERGED      39 CALLS          40 TOTAL\n",
      "                     EDM=2.57351e-17    STRATEGY= 1      ERROR MATRIX ACCURATE \n",
      "  EXT PARAMETER                                   STEP         FIRST   \n",
      "  NO.   NAME      VALUE            ERROR          SIZE      DERIVATIVE \n",
      "   1  p0           3.26502e-11   2.57075e-15   1.84745e-16  -3.93837e+05\n",
      "   2  p1          -1.66650e-02   7.25804e-05   5.21595e-06  -1.11596e-04\n"
     ]
    }
   ],
   "source": [
    "## Testing linearity for single parameters (T_amb, R_amb, γ, ν)\n",
    "\n",
    "s_T_amb_p = hk_sigma(T_amb + σ_T_amb, R_amb, μ_I, γ, ν, μ_Vfd, V, μ_hk_bias)\n",
    "s_T_amb_n = hk_sigma(T_amb - σ_T_amb, R_amb, μ_I, γ, ν, μ_Vfd, V, μ_hk_bias)\n",
    "\n",
    "\n",
    "s_R_amb_p = hk_sigma(T_amb, R_amb + σ_R_amb, μ_I, γ, ν, μ_Vfd, V, μ_hk_bias)\n",
    "s_R_amb_n = hk_sigma(T_amb, R_amb - σ_R_amb, μ_I, γ, ν, μ_Vfd, V, μ_hk_bias)\n",
    "\n",
    "s_ν_p = hk_sigma(T_amb, R_amb, μ_I, γ, ν + σ_ν, μ_Vfd, V, μ_hk_bias)\n",
    "s_ν_n = hk_sigma(T_amb, R_amb, μ_I, γ, ν - σ_ν, μ_Vfd, V, μ_hk_bias)\n",
    "\n",
    "s_γ_p = hk_sigma(T_amb, R_amb, μ_I, γ + σ_γ, ν, μ_Vfd, V, μ_hk_bias)\n",
    "s_γ_n = hk_sigma(T_amb, R_amb, μ_I, γ - σ_γ, ν, μ_Vfd, V, μ_hk_bias)\n",
    "\n",
    "\n",
    "(s_T_amb_p, s_T_amb_n), (s_R_amb_p, s_R_amb_n), (s_ν_p, s_ν_n), (s_γ_p, s_γ_n)"
   ]
  },
  {
   "cell_type": "code",
   "execution_count": null,
   "id": "4a328ab3-c1c8-49f8-8d36-d468c4ed4f9b",
   "metadata": {},
   "outputs": [],
   "source": []
  }
 ],
 "metadata": {
  "kernelspec": {
   "display_name": "Python 3",
   "language": "python",
   "name": "python3"
  },
  "language_info": {
   "codemirror_mode": {
    "name": "ipython",
    "version": 3
   },
   "file_extension": ".py",
   "mimetype": "text/x-python",
   "name": "python",
   "nbconvert_exporter": "python",
   "pygments_lexer": "ipython3",
   "version": "3.9.12"
  }
 },
 "nbformat": 4,
 "nbformat_minor": 5
}
