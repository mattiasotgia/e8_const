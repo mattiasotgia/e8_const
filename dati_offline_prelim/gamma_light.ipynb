{
 "cells": [
  {
   "cell_type": "code",
   "execution_count": null,
   "id": "7247eb4a-6e89-4bd2-a5b3-a33617707fe8",
   "metadata": {},
   "outputs": [],
   "source": [
    "import matplotlib as mpl\n",
    "import matplotlib.pyplot as plt\n",
    "import numpy as np\n",
    "\n",
    "import iminuit \n",
    "from iminuit import Minuit, cost\n",
    "import ROOT\n",
    "\n",
    "import mplhep as hep\n",
    "mpl.style.use(hep.style.ATLAS)"
   ]
  },
  {
   "cell_type": "code",
   "execution_count": 2,
   "id": "86bcefb6-7892-4713-965c-426df99cddb4",
   "metadata": {},
   "outputs": [],
   "source": [
    "V, μ_I, σ_I = np.loadtxt('lamp.txt', unpack=True)"
   ]
  },
  {
   "cell_type": "code",
   "execution_count": 22,
   "id": "7eac3977-33b4-41ae-8005-08e218dd8521",
   "metadata": {},
   "outputs": [],
   "source": [
    "def f(V, α, γ):\n",
    "    return α*V**((4*γ-1)/(4*γ+1))\n",
    "\n",
    "fcn = cost.LeastSquares(V, μ_I, σ_I, model=f)"
   ]
  },
  {
   "cell_type": "code",
   "execution_count": 23,
   "id": "f4203248-32ae-4780-8d21-881de557995d",
   "metadata": {},
   "outputs": [],
   "source": [
    "m1 = Minuit(fcn, α=1/2, γ=1/5)"
   ]
  },
  {
   "cell_type": "code",
   "execution_count": 24,
   "id": "615d994c-4c89-49b8-87b1-29f7cda22c55",
   "metadata": {},
   "outputs": [
    {
     "data": {
      "text/html": [
       "<table>\n",
       "    <tr>\n",
       "        <th colspan=\"5\" style=\"text-align:center\" title=\"Minimizer\"> Migrad </th>\n",
       "    </tr>\n",
       "    <tr>\n",
       "        <td colspan=\"2\" style=\"text-align:left\" title=\"Minimum value of function\"> FCN = 1.791e+04 (chi2/ndof = 182.7) </td>\n",
       "        <td colspan=\"3\" style=\"text-align:center\" title=\"Total number of function and (optional) gradient evaluations\"> Nfcn = 126 </td>\n",
       "    </tr>\n",
       "    <tr>\n",
       "        <td colspan=\"2\" style=\"text-align:left\" title=\"Estimated distance to minimum and goal\"> EDM = 1.98e-07 (Goal: 0.0002) </td>\n",
       "        <td colspan=\"3\" style=\"text-align:center\" title=\"Total run time of algorithms\">  </td>\n",
       "    </tr>\n",
       "    <tr>\n",
       "        <td colspan=\"2\" style=\"text-align:center;background-color:#92CCA6;color:black\"> Valid Minimum </td>\n",
       "        <td colspan=\"3\" style=\"text-align:center;background-color:#92CCA6;color:black\"> No Parameters at limit </td>\n",
       "    </tr>\n",
       "    <tr>\n",
       "        <td colspan=\"2\" style=\"text-align:center;background-color:#92CCA6;color:black\"> Below EDM threshold (goal x 10) </td>\n",
       "        <td colspan=\"3\" style=\"text-align:center;background-color:#92CCA6;color:black\"> Below call limit </td>\n",
       "    </tr>\n",
       "    <tr>\n",
       "        <td style=\"text-align:center;background-color:#92CCA6;color:black\"> Covariance </td>\n",
       "        <td style=\"text-align:center;background-color:#92CCA6;color:black\"> Hesse ok </td>\n",
       "        <td style=\"text-align:center;background-color:#92CCA6;color:black\" title=\"Is covariance matrix accurate?\"> Accurate </td>\n",
       "        <td style=\"text-align:center;background-color:#92CCA6;color:black\" title=\"Is covariance matrix positive definite?\"> Pos. def. </td>\n",
       "        <td style=\"text-align:center;background-color:#92CCA6;color:black\" title=\"Was positive definiteness enforced by Minuit?\"> Not forced </td>\n",
       "    </tr>\n",
       "</table><table>\n",
       "    <tr>\n",
       "        <td></td>\n",
       "        <th title=\"Variable name\"> Name </th>\n",
       "        <th title=\"Value of parameter\"> Value </th>\n",
       "        <th title=\"Hesse error\"> Hesse Error </th>\n",
       "        <th title=\"Minos lower error\"> Minos Error- </th>\n",
       "        <th title=\"Minos upper error\"> Minos Error+ </th>\n",
       "        <th title=\"Lower limit of the parameter\"> Limit- </th>\n",
       "        <th title=\"Upper limit of the parameter\"> Limit+ </th>\n",
       "        <th title=\"Is the parameter fixed in the fit\"> Fixed </th>\n",
       "    </tr>\n",
       "    <tr>\n",
       "        <th> 0 </th>\n",
       "        <td> α </td>\n",
       "        <td> 11.9805e-3 </td>\n",
       "        <td> 0.0027e-3 </td>\n",
       "        <td>  </td>\n",
       "        <td>  </td>\n",
       "        <td>  </td>\n",
       "        <td>  </td>\n",
       "        <td>  </td>\n",
       "    </tr>\n",
       "    <tr>\n",
       "        <th> 1 </th>\n",
       "        <td> γ </td>\n",
       "        <td> 877.69e-3 </td>\n",
       "        <td> 0.24e-3 </td>\n",
       "        <td>  </td>\n",
       "        <td>  </td>\n",
       "        <td>  </td>\n",
       "        <td>  </td>\n",
       "        <td>  </td>\n",
       "    </tr>\n",
       "</table><table>\n",
       "    <tr>\n",
       "        <td></td>\n",
       "        <th> α </th>\n",
       "        <th> γ </th>\n",
       "    </tr>\n",
       "    <tr>\n",
       "        <th> α </th>\n",
       "        <td> 7.22e-12 </td>\n",
       "        <td style=\"background-color:rgb(126,126,250);color:black\"> -6.12e-10 <strong>(-0.956)</strong> </td>\n",
       "    </tr>\n",
       "    <tr>\n",
       "        <th> γ </th>\n",
       "        <td style=\"background-color:rgb(126,126,250);color:black\"> -6.12e-10 <strong>(-0.956)</strong> </td>\n",
       "        <td> 5.68e-08 </td>\n",
       "    </tr>\n",
       "</table>"
      ],
      "text/plain": [
       "┌─────────────────────────────────────────────────────────────────────────┐\n",
       "│                                Migrad                                   │\n",
       "├──────────────────────────────────┬──────────────────────────────────────┤\n",
       "│ FCN = 1.791e+04 (chi2/ndof = 182.7)│              Nfcn = 126              │\n",
       "│ EDM = 1.98e-07 (Goal: 0.0002)    │                                      │\n",
       "├──────────────────────────────────┼──────────────────────────────────────┤\n",
       "│          Valid Minimum           │        No Parameters at limit        │\n",
       "├──────────────────────────────────┼──────────────────────────────────────┤\n",
       "│ Below EDM threshold (goal x 10)  │           Below call limit           │\n",
       "├───────────────┬──────────────────┼───────────┬─────────────┬────────────┤\n",
       "│  Covariance   │     Hesse ok     │ Accurate  │  Pos. def.  │ Not forced │\n",
       "└───────────────┴──────────────────┴───────────┴─────────────┴────────────┘\n",
       "┌───┬──────┬───────────┬───────────┬────────────┬────────────┬─────────┬─────────┬───────┐\n",
       "│   │ Name │   Value   │ Hesse Err │ Minos Err- │ Minos Err+ │ Limit-  │ Limit+  │ Fixed │\n",
       "├───┼──────┼───────────┼───────────┼────────────┼────────────┼─────────┼─────────┼───────┤\n",
       "│ 0 │ α    │11.9805e-3 │ 0.0027e-3 │            │            │         │         │       │\n",
       "│ 1 │ γ    │ 877.69e-3 │  0.24e-3  │            │            │         │         │       │\n",
       "└───┴──────┴───────────┴───────────┴────────────┴────────────┴─────────┴─────────┴───────┘\n",
       "┌───┬─────────────────────┐\n",
       "│   │         α         γ │\n",
       "├───┼─────────────────────┤\n",
       "│ α │  7.22e-12 -6.12e-10 │\n",
       "│ γ │ -6.12e-10  5.68e-08 │\n",
       "└───┴─────────────────────┘"
      ]
     },
     "execution_count": 24,
     "metadata": {},
     "output_type": "execute_result"
    }
   ],
   "source": [
    "m1.migrad()"
   ]
  },
  {
   "cell_type": "markdown",
   "id": "0458443e-9938-45b3-bfd1-8f7fbff1129b",
   "metadata": {},
   "source": [
    "$$ I = \\alpha\\cdot V^{\\frac{4\\gamma-1}{4\\gamma+1}} $$"
   ]
  },
  {
   "cell_type": "code",
   "execution_count": 27,
   "id": "7d294583-2551-4e8a-a52c-016e52a46b61",
   "metadata": {},
   "outputs": [
    {
     "data": {
      "text/plain": [
       "[<matplotlib.lines.Line2D at 0x1248be100>]"
      ]
     },
     "execution_count": 27,
     "metadata": {},
     "output_type": "execute_result"
    },
    {
     "data": {
      "image/png": "[encoded data removed]",
      "text/plain": [
       "<Figure size 432x288 with 1 Axes>"
      ]
     },
     "metadata": {
      "image/png": {
       "height": 274,
       "width": 378
      },
      "needs_background": "light"
     },
     "output_type": "display_data"
    }
   ],
   "source": [
    "plt.errorbar(V, μ_I, σ_I, fmt='k.')\n",
    "plt.plot(V, f(V, *m1.values), 'r', zorder=100)"
   ]
  },
  {
   "cell_type": "code",
   "execution_count": 28,
   "id": "305fe4f1-a1bd-40fc-83a4-2548e1552fc0",
   "metadata": {},
   "outputs": [
    {
     "data": {
      "text/plain": [
       "0.8776874742864311"
      ]
     },
     "execution_count": 28,
     "metadata": {},
     "output_type": "execute_result"
    }
   ],
   "source": [
    "m1.values['γ']"
   ]
  },
  {
   "cell_type": "code",
   "execution_count": null,
   "id": "1a493115-ce4d-4811-b685-90bc36cac345",
   "metadata": {},
   "outputs": [],
   "source": []
  }
 ],
 "metadata": {
  "kernelspec": {
   "display_name": "Python 3",
   "language": "python",
   "name": "python3"
  },
  "language_info": {
   "codemirror_mode": {
    "name": "ipython",
    "version": 3
   },
   "file_extension": ".py",
   "mimetype": "text/x-python",
   "name": "python",
   "nbconvert_exporter": "python",
   "pygments_lexer": "ipython3",
   "version": "3.9.12"
  }
 },
 "nbformat": 4,
 "nbformat_minor": 5
}
