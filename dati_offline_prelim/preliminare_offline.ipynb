{
 "cells": [
  {
   "cell_type": "code",
   "execution_count": 2,
   "id": "1ed965a8-58ae-427d-9d08-ff3da52019ed",
   "metadata": {
    "tags": []
   },
   "outputs": [
    {
     "name": "stdout",
     "output_type": "stream",
     "text": [
      "Welcome to JupyROOT 6.24/02\n"
     ]
    }
   ],
   "source": [
    "import matplotlib as mpl\n",
    "import matplotlib.pyplot as plt\n",
    "import numpy as np\n",
    "from scipy.constants import c\n",
    "\n",
    "import iminuit \n",
    "from iminuit import Minuit, cost\n",
    "import ROOT\n",
    "\n",
    "import mplhep as hep\n",
    "mpl.style.use(hep.style.ATLAS)\n",
    "\n",
    "\n"
   ]
  },
  {
   "cell_type": "markdown",
   "id": "0b992a10-eb21-4c79-936d-37a9dc81f48b",
   "metadata": {},
   "source": [
    "    mpl.rcParams['font.size'] = 8\n",
    "    mpl.rcParams['figure.dpi'] = 200"
   ]
  },
  {
   "cell_type": "markdown",
   "id": "e1fecade-bd7c-4290-bbfa-cc16bd70855f",
   "metadata": {},
   "source": [
    "Analisi per ottenere valore di $\\gamma$. Conosciamo la relazione di fit che è $$ I = \\alpha\\cdot V^{\\frac{4\\gamma-1}{4\\gamma+1}} $$"
   ]
  },
  {
   "cell_type": "code",
   "execution_count": 3,
   "id": "a45b17bc-777f-49ed-8b87-3103d624e046",
   "metadata": {},
   "outputs": [
    {
     "data": {
      "text/html": [
       "<table>\n",
       "    <tr>\n",
       "        <th colspan=\"5\" style=\"text-align:center\" title=\"Minimizer\"> Migrad </th>\n",
       "    </tr>\n",
       "    <tr>\n",
       "        <td colspan=\"2\" style=\"text-align:left\" title=\"Minimum value of function\"> FCN = 1.791e+04 (chi2/ndof = 182.7) </td>\n",
       "        <td colspan=\"3\" style=\"text-align:center\" title=\"Total number of function and (optional) gradient evaluations\"> Nfcn = 61 </td>\n",
       "    </tr>\n",
       "    <tr>\n",
       "        <td colspan=\"2\" style=\"text-align:left\" title=\"Estimated distance to minimum and goal\"> EDM = 5.43e-08 (Goal: 0.0002) </td>\n",
       "        <td colspan=\"3\" style=\"text-align:center\" title=\"Total run time of algorithms\">  </td>\n",
       "    </tr>\n",
       "    <tr>\n",
       "        <td colspan=\"2\" style=\"text-align:center;background-color:#92CCA6;color:black\"> Valid Minimum </td>\n",
       "        <td colspan=\"3\" style=\"text-align:center;background-color:#92CCA6;color:black\"> No Parameters at limit </td>\n",
       "    </tr>\n",
       "    <tr>\n",
       "        <td colspan=\"2\" style=\"text-align:center;background-color:#92CCA6;color:black\"> Below EDM threshold (goal x 10) </td>\n",
       "        <td colspan=\"3\" style=\"text-align:center;background-color:#92CCA6;color:black\"> Below call limit </td>\n",
       "    </tr>\n",
       "    <tr>\n",
       "        <td style=\"text-align:center;background-color:#92CCA6;color:black\"> Covariance </td>\n",
       "        <td style=\"text-align:center;background-color:#92CCA6;color:black\"> Hesse ok </td>\n",
       "        <td style=\"text-align:center;background-color:#92CCA6;color:black\" title=\"Is covariance matrix accurate?\"> Accurate </td>\n",
       "        <td style=\"text-align:center;background-color:#92CCA6;color:black\" title=\"Is covariance matrix positive definite?\"> Pos. def. </td>\n",
       "        <td style=\"text-align:center;background-color:#92CCA6;color:black\" title=\"Was positive definiteness enforced by Minuit?\"> Not forced </td>\n",
       "    </tr>\n",
       "</table><table>\n",
       "    <tr>\n",
       "        <td></td>\n",
       "        <th title=\"Variable name\"> Name </th>\n",
       "        <th title=\"Value of parameter\"> Value </th>\n",
       "        <th title=\"Hesse error\"> Hesse Error </th>\n",
       "        <th title=\"Minos lower error\"> Minos Error- </th>\n",
       "        <th title=\"Minos upper error\"> Minos Error+ </th>\n",
       "        <th title=\"Lower limit of the parameter\"> Limit- </th>\n",
       "        <th title=\"Upper limit of the parameter\"> Limit+ </th>\n",
       "        <th title=\"Is the parameter fixed in the fit\"> Fixed </th>\n",
       "    </tr>\n",
       "    <tr>\n",
       "        <th> 0 </th>\n",
       "        <td> α </td>\n",
       "        <td> 11.9805e-3 </td>\n",
       "        <td> 0.0027e-3 </td>\n",
       "        <td>  </td>\n",
       "        <td>  </td>\n",
       "        <td>  </td>\n",
       "        <td>  </td>\n",
       "        <td>  </td>\n",
       "    </tr>\n",
       "    <tr>\n",
       "        <th> 1 </th>\n",
       "        <td> γ </td>\n",
       "        <td> 877.69e-3 </td>\n",
       "        <td> 0.24e-3 </td>\n",
       "        <td>  </td>\n",
       "        <td>  </td>\n",
       "        <td>  </td>\n",
       "        <td>  </td>\n",
       "        <td>  </td>\n",
       "    </tr>\n",
       "</table><table>\n",
       "    <tr>\n",
       "        <td></td>\n",
       "        <th> α </th>\n",
       "        <th> γ </th>\n",
       "    </tr>\n",
       "    <tr>\n",
       "        <th> α </th>\n",
       "        <td> 7.22e-12 </td>\n",
       "        <td style=\"background-color:rgb(126,126,250);color:black\"> -6.12e-10 <strong>(-0.956)</strong> </td>\n",
       "    </tr>\n",
       "    <tr>\n",
       "        <th> γ </th>\n",
       "        <td style=\"background-color:rgb(126,126,250);color:black\"> -6.12e-10 <strong>(-0.956)</strong> </td>\n",
       "        <td> 5.68e-08 </td>\n",
       "    </tr>\n",
       "</table>"
      ],
      "text/plain": [
       "┌─────────────────────────────────────────────────────────────────────────┐\n",
       "│                                Migrad                                   │\n",
       "├──────────────────────────────────┬──────────────────────────────────────┤\n",
       "│ FCN = 1.791e+04 (chi2/ndof = 182.7)│              Nfcn = 61               │\n",
       "│ EDM = 5.43e-08 (Goal: 0.0002)    │                                      │\n",
       "├──────────────────────────────────┼──────────────────────────────────────┤\n",
       "│          Valid Minimum           │        No Parameters at limit        │\n",
       "├──────────────────────────────────┼──────────────────────────────────────┤\n",
       "│ Below EDM threshold (goal x 10)  │           Below call limit           │\n",
       "├───────────────┬──────────────────┼───────────┬─────────────┬────────────┤\n",
       "│  Covariance   │     Hesse ok     │ Accurate  │  Pos. def.  │ Not forced │\n",
       "└───────────────┴──────────────────┴───────────┴─────────────┴────────────┘\n",
       "┌───┬──────┬───────────┬───────────┬────────────┬────────────┬─────────┬─────────┬───────┐\n",
       "│   │ Name │   Value   │ Hesse Err │ Minos Err- │ Minos Err+ │ Limit-  │ Limit+  │ Fixed │\n",
       "├───┼──────┼───────────┼───────────┼────────────┼────────────┼─────────┼─────────┼───────┤\n",
       "│ 0 │ α    │11.9805e-3 │ 0.0027e-3 │            │            │         │         │       │\n",
       "│ 1 │ γ    │ 877.69e-3 │  0.24e-3  │            │            │         │         │       │\n",
       "└───┴──────┴───────────┴───────────┴────────────┴────────────┴─────────┴─────────┴───────┘\n",
       "┌───┬─────────────────────┐\n",
       "│   │         α         γ │\n",
       "├───┼─────────────────────┤\n",
       "│ α │  7.22e-12 -6.12e-10 │\n",
       "│ γ │ -6.12e-10  5.68e-08 │\n",
       "└───┴─────────────────────┘"
      ]
     },
     "execution_count": 3,
     "metadata": {},
     "output_type": "execute_result"
    }
   ],
   "source": [
    "V, μ_I, σ_I = np.loadtxt('lamp.txt', unpack=True)\n",
    "\n",
    "def f(V, α, γ):\n",
    "    return α*(V**((4*γ-1)/(4*γ+1)))\n",
    "\n",
    "χ2= cost.LeastSquares(V, μ_I, σ_I, model=f)\n",
    "\n",
    "m_γ = Minuit(χ2, α=1e-2, γ=0.8)\n",
    "m_γ.migrad()"
   ]
  },
  {
   "cell_type": "code",
   "execution_count": 4,
   "id": "c681ff93-4f81-47f9-80e9-ffeb6d58ac21",
   "metadata": {},
   "outputs": [
    {
     "data": {
      "text/plain": [
       "<matplotlib.legend.Legend at 0x13073f850>"
      ]
     },
     "execution_count": 4,
     "metadata": {},
     "output_type": "execute_result"
    },
    {
     "data": {
      "image/png": "[encoded data removed]",
      "text/plain": [
       "<Figure size 432x288 with 1 Axes>"
      ]
     },
     "metadata": {
      "image/png": {
       "height": 300,
       "width": 404
      },
      "needs_background": "light"
     },
     "output_type": "display_data"
    }
   ],
   "source": [
    "fig, ax = plt.subplots()\n",
    "\n",
    "ax.set_xlabel('$V_{in}$ [V]')\n",
    "ax.set_ylabel('$I$  [A]')\n",
    "ax.errorbar(V, μ_I, σ_I, fmt='k.', markersize=4, label='Data')\n",
    "ax.plot(V, f(V, *m_γ.values), 'r', label='Fit')\n",
    "ax.legend()"
   ]
  },
  {
   "cell_type": "code",
   "execution_count": 5,
   "id": "fd032a5b-2296-483c-8593-c50acda5a762",
   "metadata": {},
   "outputs": [],
   "source": [
    "fig.savefig('../report/fig/gamma_plot.pdf', bbox_inches='tight')"
   ]
  },
  {
   "cell_type": "code",
   "execution_count": 6,
   "id": "e8102b0d-8b03-4144-9abe-b3c5ff766ef7",
   "metadata": {},
   "outputs": [
    {
     "name": "stdout",
     "output_type": "stream",
     "text": [
      "γ = 0.877687(238)\n"
     ]
    },
    {
     "data": {
      "text/plain": [
       "0.0002715560568118119"
      ]
     },
     "execution_count": 6,
     "metadata": {},
     "output_type": "execute_result"
    }
   ],
   "source": [
    "γ, σ_γ = m_γ.values['γ'], m_γ.errors['γ']\n",
    "\n",
    "from uncertainties import ufloat\n",
    "print(f'γ = {ufloat(γ, σ_γ):.3uS}')\n",
    "\n",
    "σ_γ/γ"
   ]
  },
  {
   "cell_type": "markdown",
   "id": "7370b607-ce56-470b-91c2-b7dd46e9f698",
   "metadata": {},
   "source": [
    "$$ T_i = T_{amb} \\left(\\frac{V_i}{I_i R_{amb}}\\right)^\\gamma $$"
   ]
  },
  {
   "cell_type": "code",
   "execution_count": 26,
   "id": "d601d0ed-ad27-4dcd-b9ff-4c66ab3c804b",
   "metadata": {},
   "outputs": [
    {
     "data": {
      "text/plain": [
       "<matplotlib.legend.Legend at 0x1337ae880>"
      ]
     },
     "execution_count": 26,
     "metadata": {},
     "output_type": "execute_result"
    },
    {
     "data": {
      "image/png": "[encoded data removed]",
      "text/plain": [
       "<Figure size 432x288 with 1 Axes>"
      ]
     },
     "metadata": {
      "image/png": {
       "height": 304,
       "width": 429
      },
      "needs_background": "light"
     },
     "output_type": "display_data"
    }
   ],
   "source": [
    "def T(T_amb, R_amb, V, I, γ):\n",
    "    return T_amb * ( V/(I*R_amb) )**γ\n",
    "\n",
    "\n",
    "V, μ_I, σ_I, μ_Vfd, σ_Vfd = np.loadtxt('ph_diode.txt', unpack=True)\n",
    "\n",
    "T_amb = 299.7\n",
    "σ_T_amb = 0.7\n",
    "R_amb, σ_R_amb = 25.045, 0.21551350000000002\n",
    "\n",
    "ν, σ_ν = c/450e-9, c/(450e-9**2) * 10 / (2 * np.log(2 + np.sqrt(3)))\n",
    "\n",
    "μ_T = T(T_amb, R_amb, V, μ_I, γ)\n",
    "\n",
    "def log(i, j):\n",
    "    return np.log(μ_Vfd[i]/μ_Vfd[j])\n",
    "\n",
    "def Tij(i, j, ν):\n",
    "    return ν*(1/μ_T[j]-1/μ_T[i])\n",
    "\n",
    "j: int = 0\n",
    "LOG = np.array([log(i, j) for i in range(len(μ_Vfd))])\n",
    "TEMP_DIFF =  np.array([Tij(i, j, ν) for i in range(len(V))])\n",
    "\n",
    "fig, ax = plt.subplots()\n",
    "ax.set_xlabel(r'$\\nu\\left(\\frac{1}{T_%d} - \\frac{1}{T_i}\\right)$ [Hz/K]'%j, labelpad=15)\n",
    "ax.set_ylabel(r'$\\log\\left(\\frac{V_{fd,i}}{V_{fd,%d}}\\right)$'%j)\n",
    "ax.plot(TEMP_DIFF, LOG, 'k.', markersize=3, label='Data')\n",
    "ax.legend()"
   ]
  },
  {
   "cell_type": "code",
   "execution_count": 38,
   "id": "e9182c19-e5e0-4e44-a79c-fbb392359308",
   "metadata": {},
   "outputs": [
    {
     "name": "stdout",
     "output_type": "stream",
     "text": [
      "μ_I:   1.30754 != 1.30616\n",
      "R_amb: 20.06502 != 19.74341\n",
      "μ_I:   1.30829 != 1.30690\n",
      "R_amb: 20.10682 != 19.78454\n",
      "μ_I:   1.30908 != 1.30769\n",
      "R_amb: 20.14892 != 19.82597\n",
      "μ_I:   1.30994 != 1.30856\n",
      "R_amb: 20.19162 != 19.86799\n",
      "μ_I:   1.31081 != 1.30943\n",
      "R_amb: 20.23433 != 19.91002\n",
      "μ_I:   1.31165 != 1.31027\n",
      "R_amb: 20.27648 != 19.95149\n",
      "μ_I:   1.31207 != 1.31069\n",
      "R_amb: 20.31430 != 19.98869\n",
      "μ_I:   1.31307 != 1.31170\n",
      "R_amb: 20.35793 != 20.03163\n",
      "μ_I:   1.31409 != 1.31272\n",
      "R_amb: 20.40158 != 20.07458\n",
      "μ_I:   1.31513 != 1.31375\n",
      "R_amb: 20.44525 != 20.11755\n",
      "μ_I:   1.31609 != 1.31472\n",
      "R_amb: 20.48808 != 20.15970\n",
      "μ_I:   1.31687 != 1.31550\n",
      "R_amb: 20.52892 != 20.19987\n",
      "μ_I:   1.31787 != 1.31649\n",
      "R_amb: 20.57180 != 20.24207\n",
      "μ_I:   1.31882 != 1.31745\n",
      "R_amb: 20.61413 != 20.28372\n",
      "μ_I:   1.31970 != 1.31833\n",
      "R_amb: 20.65563 != 20.32456\n",
      "μ_I:   1.32063 != 1.31925\n",
      "R_amb: 20.69746 != 20.36572\n",
      "μ_I:   1.32159 != 1.32022\n",
      "R_amb: 20.73960 != 20.40719\n",
      "μ_I:   1.32210 != 1.32073\n",
      "R_amb: 20.77691 != 20.44389\n",
      "μ_I:   1.32307 != 1.32171\n",
      "R_amb: 20.81885 != 20.48516\n",
      "μ_I:   1.32422 != 1.32286\n",
      "R_amb: 20.86254 != 20.52815\n",
      "μ_I:   1.32525 != 1.32388\n",
      "R_amb: 20.90485 != 20.56978\n",
      "μ_I:   1.32629 != 1.32493\n",
      "R_amb: 20.94719 != 20.61145\n",
      "μ_I:   1.32727 != 1.32590\n",
      "R_amb: 20.98873 != 20.65232\n",
      "μ_I:   1.32820 != 1.32683\n",
      "R_amb: 21.02973 != 20.69267\n",
      "μ_I:   1.32917 != 1.32781\n",
      "R_amb: 21.07108 != 20.73335\n",
      "μ_I:   1.33008 != 1.32872\n",
      "R_amb: 21.11162 != 20.77324\n",
      "μ_I:   1.33103 != 1.32967\n",
      "R_amb: 21.15249 != 20.81346\n",
      "μ_I:   1.33203 != 1.33067\n",
      "R_amb: 21.19370 != 20.85401\n",
      "μ_I:   1.33309 != 1.33173\n",
      "R_amb: 21.23554 != 20.89517\n",
      "μ_I:   1.33387 != 1.33251\n",
      "R_amb: 21.27431 != 20.93332\n",
      "μ_I:   1.33515 != 1.33379\n",
      "R_amb: 21.31825 != 20.97655\n",
      "μ_I:   1.33658 != 1.33522\n",
      "R_amb: 21.36366 != 21.02124\n",
      "μ_I:   1.33789 != 1.33653\n",
      "R_amb: 21.40771 != 21.06459\n",
      "μ_I:   1.33918 != 1.33782\n",
      "R_amb: 21.45154 != 21.10771\n",
      "μ_I:   1.34033 != 1.33897\n",
      "R_amb: 21.49373 != 21.14922\n",
      "μ_I:   1.34117 != 1.33981\n",
      "R_amb: 21.53257 != 21.18744\n",
      "μ_I:   1.34219 != 1.34083\n",
      "R_amb: 21.57319 != 21.22741\n",
      "μ_I:   1.34328 != 1.34192\n",
      "R_amb: 21.61443 != 21.26800\n",
      "μ_I:   1.34475 != 1.34339\n",
      "R_amb: 21.65971 != 21.31255\n",
      "μ_I:   1.34568 != 1.34432\n",
      "R_amb: 21.69912 != 21.35132\n",
      "μ_I:   1.34610 != 1.34474\n",
      "R_amb: 21.73294 != 21.38460\n",
      "μ_I:   1.34719 != 1.34583\n",
      "R_amb: 21.77391 != 21.42491\n",
      "μ_I:   1.34830 != 1.34694\n",
      "R_amb: 21.81495 != 21.46529\n",
      "μ_I:   1.34945 != 1.34809\n",
      "R_amb: 21.85634 != 21.50603\n",
      "μ_I:   1.35038 != 1.34902\n",
      "R_amb: 21.89528 != 21.54434\n",
      "μ_I:   1.35117 != 1.34981\n",
      "R_amb: 21.93260 != 21.58106\n",
      "μ_I:   1.35371 != 1.35236\n",
      "R_amb: 21.98888 != 21.63644\n",
      "μ_I:   1.35313 != 1.35178\n",
      "R_amb: 22.01115 != 21.65836\n",
      "μ_I:   1.35404 != 1.35269\n",
      "R_amb: 22.04957 != 21.69616\n",
      "μ_I:   1.35503 != 1.35367\n",
      "R_amb: 22.08863 != 21.73459\n",
      "μ_I:   1.35620 != 1.35485\n",
      "R_amb: 22.12975 != 21.77505\n",
      "μ_I:   1.35688 != 1.35553\n",
      "R_amb: 22.16533 != 21.81006\n",
      "μ_I:   1.35765 != 1.35630\n",
      "R_amb: 22.20185 != 21.84599\n",
      "μ_I:   1.35829 != 1.35694\n",
      "R_amb: 22.23677 != 21.88036\n",
      "μ_I:   1.35902 != 1.35767\n",
      "R_amb: 22.27264 != 21.91565\n",
      "μ_I:   1.36002 != 1.35867\n",
      "R_amb: 22.31139 != 21.95378\n",
      "μ_I:   1.36101 != 1.35966\n",
      "R_amb: 22.34996 != 21.99173\n",
      "μ_I:   1.36199 != 1.36064\n",
      "R_amb: 22.38833 != 22.02949\n",
      "μ_I:   1.36314 != 1.36179\n",
      "R_amb: 22.42848 != 22.06899\n",
      "μ_I:   1.36395 != 1.36260\n",
      "R_amb: 22.46481 != 22.10475\n",
      "μ_I:   1.36457 != 1.36322\n",
      "R_amb: 22.49902 != 22.13840\n",
      "μ_I:   1.36536 != 1.36402\n",
      "R_amb: 22.53499 != 22.17380\n",
      "μ_I:   1.36587 != 1.36452\n",
      "R_amb: 22.56773 != 22.20601\n",
      "μ_I:   1.36690 != 1.36555\n",
      "R_amb: 22.60613 != 22.24380\n",
      "μ_I:   1.36781 != 1.36647\n",
      "R_amb: 22.64324 != 22.28031\n",
      "μ_I:   1.36929 != 1.36795\n",
      "R_amb: 22.68657 != 22.32295\n",
      "μ_I:   1.37029 != 1.36894\n",
      "R_amb: 22.72444 != 22.36021\n",
      "μ_I:   1.37210 != 1.37075\n",
      "R_amb: 22.77130 != 22.40632\n",
      "μ_I:   1.37270 != 1.37136\n",
      "R_amb: 22.80465 != 22.43914\n",
      "μ_I:   1.37278 != 1.37144\n",
      "R_amb: 22.83201 != 22.46606\n",
      "μ_I:   1.37337 != 1.37203\n",
      "R_amb: 22.86504 != 22.49855\n",
      "μ_I:   1.37477 != 1.37343\n",
      "R_amb: 22.90703 != 22.53987\n",
      "μ_I:   1.37517 != 1.37383\n",
      "R_amb: 22.93778 != 22.57013\n",
      "μ_I:   1.37652 != 1.37518\n",
      "R_amb: 22.97916 != 22.61085\n",
      "μ_I:   1.37735 != 1.37601\n",
      "R_amb: 23.01456 != 22.64568\n",
      "μ_I:   1.37749 != 1.37615\n",
      "R_amb: 23.04207 != 22.67274\n",
      "μ_I:   1.37843 != 1.37709\n",
      "R_amb: 23.07852 != 22.70862\n",
      "μ_I:   1.37962 != 1.37828\n",
      "R_amb: 23.11785 != 22.74731\n",
      "μ_I:   1.38078 != 1.37944\n",
      "R_amb: 23.15674 != 22.78558\n",
      "μ_I:   1.38087 != 1.37953\n",
      "R_amb: 23.18334 != 22.81175\n",
      "μ_I:   1.38119 != 1.37986\n",
      "R_amb: 23.21255 != 22.84050\n",
      "μ_I:   1.38301 != 1.38167\n",
      "R_amb: 23.25865 != 22.88586\n",
      "μ_I:   1.38346 != 1.38212\n",
      "R_amb: 23.28920 != 22.91592\n",
      "μ_I:   1.38434 != 1.38300\n",
      "R_amb: 23.32454 != 22.95069\n",
      "μ_I:   1.38485 != 1.38352\n",
      "R_amb: 23.35561 != 22.98126\n",
      "μ_I:   1.38598 != 1.38465\n",
      "R_amb: 23.39365 != 23.01870\n",
      "μ_I:   1.38694 != 1.38560\n",
      "R_amb: 23.42962 != 23.05409\n",
      "μ_I:   1.38771 != 1.38638\n",
      "R_amb: 23.46352 != 23.08745\n",
      "μ_I:   1.38882 != 1.38748\n",
      "R_amb: 23.50110 != 23.12442\n",
      "μ_I:   1.38939 != 1.38805\n",
      "R_amb: 23.53251 != 23.15533\n",
      "μ_I:   1.38981 != 1.38848\n",
      "R_amb: 23.56213 != 23.18447\n",
      "μ_I:   1.39018 != 1.38885\n",
      "R_amb: 23.59107 != 23.21295\n",
      "μ_I:   1.39157 != 1.39023\n",
      "R_amb: 23.63160 != 23.25282\n",
      "μ_I:   1.39235 != 1.39102\n",
      "R_amb: 23.66515 != 23.28584\n",
      "μ_I:   1.39369 != 1.39236\n",
      "R_amb: 23.70510 != 23.32516\n",
      "μ_I:   1.39354 != 1.39221\n",
      "R_amb: 23.72774 != 23.34743\n",
      "μ_I:   1.39463 != 1.39330\n",
      "R_amb: 23.76467 != 23.38377\n",
      "μ_I:   1.39510 != 1.39377\n",
      "R_amb: 23.79439 != 23.41301\n",
      "μ_I:   1.39499 != 1.39366\n",
      "R_amb: 23.81717 != 23.43543\n",
      "μ_I:   1.39660 != 1.39527\n",
      "R_amb: 23.85992 != 23.47749\n"
     ]
    },
    {
     "data": {
      "text/plain": [
       "array([6.34876154, 6.36235476, 6.37604722, 6.38993379, 6.4038256 ,\n",
       "       6.41753448, 6.42983591, 6.4440311 , 6.45823345, 6.47244355,\n",
       "       6.48638003, 6.49966851, 6.51362467, 6.52740376, 6.54091304,\n",
       "       6.55452814, 6.56824935, 6.58039497, 6.59405032, 6.6082795 ,\n",
       "       6.62205633, 6.63584811, 6.64937594, 6.66273394, 6.67620192,\n",
       "       6.68940846, 6.70272601, 6.71615481, 6.72978789, 6.74242051,\n",
       "       6.75674095, 6.77154382, 6.78590333, 6.80019061, 6.81394354,\n",
       "       6.82660853, 6.83985127, 6.85330177, 6.86806815, 6.8809189 ,\n",
       "       6.89195037, 6.9053128 , 6.9187002 , 6.93220501, 6.94490741,\n",
       "       6.95708506, 6.97545076, 6.98271794, 6.9952547 , 7.00800338,\n",
       "       7.02142236, 7.03303718, 7.04495743, 7.05635961, 7.0680677 ,\n",
       "       7.08072053, 7.09331276, 7.10584483, 7.11895552, 7.13082135,\n",
       "       7.14199152, 7.15374183, 7.16443476, 7.17698003, 7.18910448,\n",
       "       7.20326021, 7.21563335, 7.23094544, 7.24184359, 7.25078492,\n",
       "       7.26157765, 7.27530309, 7.28535465, 7.2988795 , 7.31045176,\n",
       "       7.31944364, 7.33136286, 7.34422107, 7.35693604, 7.36563514,\n",
       "       7.37518747, 7.3902651 , 7.40025512, 7.4118134 , 7.421975  ,\n",
       "       7.43442045, 7.44618765, 7.45727777, 7.46957332, 7.47984935,\n",
       "       7.48954176, 7.49900981, 7.51227246, 7.52325363, 7.53633002,\n",
       "       7.54373777, 7.55582709, 7.56555339, 7.57301225, 7.58700745])"
      ]
     },
     "execution_count": 38,
     "metadata": {},
     "output_type": "execute_result"
    }
   ],
   "source": [
    "# T(T_amb, R_amb, V, I, γ)\n",
    "\n",
    "σ_T = np.zeros_like(μ_T)\n",
    "\n",
    "\n",
    "for i in range(len(σ_T)):\n",
    "    \n",
    "    σ2 = 0\n",
    "    \n",
    "    σ_T_amb_p = np.abs(T(T_amb + σ_T_amb, R_amb, V[i], μ_I[i], γ) - μ_T[i])\n",
    "    σ_T_amb_n = np.abs(T(T_amb - σ_T_amb, R_amb, V[i], μ_I[i], γ) - μ_T[i])\n",
    "    if np.abs(σ_T_amb_n - σ_T_amb_p) < 0.01 * T_amb:\n",
    "        σ2 += np.max([σ_T_amb_n, σ_T_amb_p])**2\n",
    "    else:\n",
    "        print('T_amb: %.5f != %.5f'%(σ_T_amb_n, σ_T_amb_p))\n",
    "\n",
    "    σ_γ_p = np.abs(T(T_amb, R_amb, V[i], μ_I[i], γ + σ_γ) - μ_T[i])\n",
    "    σ_γ_n = np.abs(T(T_amb, R_amb, V[i], μ_I[i], γ - σ_γ) - μ_T[i])\n",
    "    if np.abs(σ_γ_n - σ_γ_p) < (0.01 * γ):\n",
    "        σ2 += np.max([σ_γ_n, σ_γ_p])**2\n",
    "    else:\n",
    "        print('γ:     %.5f != %.5f'%(σ_γ_n, σ_γ_p))\n",
    "        \n",
    "    σ_I_p = np.abs(T(T_amb, R_amb, V[i], μ_I[i] + σ_I[i], γ) - μ_T[i])\n",
    "    σ_I_n = np.abs(T(T_amb, R_amb, V[i], μ_I[i] - σ_I[i], γ) - μ_T[i])\n",
    "    if np.abs(σ_I_n - σ_I_p) < (0.01 * μ_I[i]):\n",
    "        σ2 += np.max([σ_I_n, σ_I_p])**2\n",
    "    else:\n",
    "        print('μ_I:   %.5f != %.5f'%(σ_I_n, σ_I_p))\n",
    "    \n",
    "    σ_R_amb_p = np.abs(T(T_amb, R_amb + σ_R_amb, V[i], μ_I[i], γ) - μ_T[i])\n",
    "    σ_R_amb_n = np.abs(T(T_amb, R_amb - σ_R_amb, V[i], μ_I[i], γ) - μ_T[i])\n",
    "    if np.abs(σ_R_amb_n - σ_R_amb_p) < (0.01 * R_amb):\n",
    "        σ2 += np.max([σ_R_amb_n, σ_R_amb_p])**2\n",
    "    else:\n",
    "        print('R_amb: %.5f != %.5f'%(σ_R_amb_n, σ_R_amb_p))\n",
    "\n",
    "    \n",
    "    σ_T[i] = np.sqrt(σ2)\n",
    "    \n",
    "\n",
    "\n",
    "σ_T\n"
   ]
  },
  {
   "cell_type": "code",
   "execution_count": 28,
   "id": "745ab20d-4430-4879-9315-45728f41ef6e",
   "metadata": {},
   "outputs": [],
   "source": [
    "σ_MC = np.zeros_like(σ_T)\n",
    "\n",
    "def MC_f(R_amb, V, I, γ):\n",
    "    return ( V / (I * R_amb) )**γ\n",
    "\n",
    "n_samples = 100_000\n",
    "\n",
    "rnd = ROOT.TRandom3(2191070958714)\n",
    "\n",
    "for i in range(len(σ_MC)):\n",
    "    MC_f_reco = ROOT.TH1D('', '', 100, 0, 0)\n",
    "    for _ in range(n_samples):\n",
    "        MC_f_reco.Fill(\n",
    "            MC_f(\n",
    "                rnd.Gaus(R_amb, σ_R_amb),\n",
    "                V[i],\n",
    "                rnd.Gaus(μ_I[i], σ_I[i]),\n",
    "                rnd.Gaus(γ, σ_γ)\n",
    "            )\n",
    "        )\n",
    "    σ_MC[i] += MC_f_reco.GetStdDev()\n",
    "\n",
    "\n",
    "\n",
    "\n",
    "\n",
    "σ_T = np.sqrt(σ_T_amb**2 + σ_MC**2)\n"
   ]
  },
  {
   "cell_type": "code",
   "execution_count": 29,
   "id": "548f2857-5daf-4b99-87c4-593b5f34bcd0",
   "metadata": {},
   "outputs": [
    {
     "data": {
      "text/plain": [
       "(0.030139, 0.112776, 3.7418627028103124)"
      ]
     },
     "execution_count": 29,
     "metadata": {},
     "output_type": "execute_result"
    }
   ],
   "source": [
    "\n",
    "μ_Vfd[0], np.max(μ_Vfd), np.max(μ_Vfd)/μ_Vfd[0]\n",
    "\n"
   ]
  },
  {
   "cell_type": "markdown",
   "id": "48ada1ba-51ec-45ae-9f1c-2ca0dba3d1ed",
   "metadata": {},
   "source": [
    "$\\ln(x)\\sim x$ in un intorno di $x$ in [1,3] che sono i valori di interesse"
   ]
  },
  {
   "cell_type": "code",
   "execution_count": 30,
   "id": "c5653b49-3e51-4ccd-84fc-872a1e355cbf",
   "metadata": {},
   "outputs": [],
   "source": [
    "σ_LOG = np.zeros_like(LOG)\n",
    "\n",
    "def log(Vi, Vj):\n",
    "    return np.log(Vi/Vj)\n",
    "\n",
    "def Tij(Ti, Tj, ν):\n",
    "    return ν*(1/Tj-1/Ti)\n",
    "\n",
    "for i in range(len(LOG)):\n",
    "    σ2 = 0.0\n",
    "    σ_Vi_p = np.abs(log(μ_Vfd[i] + σ_Vfd[i], μ_Vfd[j]) - LOG[i])\n",
    "    σ_Vi_n = np.abs(log(μ_Vfd[i] - σ_Vfd[i], μ_Vfd[j]) - LOG[i])\n",
    "    \n",
    "    if np.abs(σ_Vi_p - σ_Vi_n) < (σ_Vfd[i] / μ_Vfd[i]) * np.max([σ_Vi_p, σ_Vi_n]):\n",
    "        σ2 += np.max([σ_Vi_p, σ_Vi_n])**2\n",
    "        # print('Vi %3d: linear! '%i, end='')\n",
    "    else:\n",
    "        print('Vi: %.10f != %.10f'%(σ_Vi_n, σ_Vi_p))\n",
    "    \n",
    "    σ_Vj_p = np.abs(log(μ_Vfd[i], μ_Vfd[j] + σ_Vfd[j]) - LOG[i])\n",
    "    σ_Vj_n = np.abs(log(μ_Vfd[i], μ_Vfd[j] - σ_Vfd[j]) - LOG[i])\n",
    "    \n",
    "    if np.abs(σ_Vj_p - σ_Vj_n) < (σ_Vfd[j] / μ_Vfd[j]) * np.max([σ_Vj_p, σ_Vj_n]):\n",
    "        σ2 += np.max([σ_Vj_p, σ_Vj_n])**2\n",
    "        # print('Vj %3d: linear! '%i, end='')\n",
    "    else:\n",
    "        print('Vj: %.10f != %.10f'%(σ_Vj_n, σ_Vj_p))\n",
    "    \n",
    "    σ_LOG[i] += np.sqrt(σ2)"
   ]
  },
  {
   "cell_type": "markdown",
   "id": "f024a119-df96-45cc-85c7-5aba337e1507",
   "metadata": {},
   "source": [
    "Osserviamo che in tutti i casi abbiamo linearità su entrambe le direzioni, quindi possiamo ottenere gli errori sui punti."
   ]
  },
  {
   "cell_type": "code",
   "execution_count": 31,
   "id": "ebc8128b-7c49-45f7-a7a1-0ef416df8793",
   "metadata": {},
   "outputs": [
    {
     "data": {
      "text/plain": [
       "<matplotlib.legend.Legend at 0x13405c550>"
      ]
     },
     "execution_count": 31,
     "metadata": {},
     "output_type": "execute_result"
    },
    {
     "data": {
      "image/png": "[encoded data removed]",
      "text/plain": [
       "<Figure size 432x288 with 1 Axes>"
      ]
     },
     "metadata": {
      "image/png": {
       "height": 304,
       "width": 429
      },
      "needs_background": "light"
     },
     "output_type": "display_data"
    }
   ],
   "source": [
    "fig, ax = plt.subplots()\n",
    "ax.set_xlabel(r'$\\nu\\left(\\frac{1}{T_%d} - \\frac{1}{T_i}\\right)$ [Hz/K]'%j, labelpad=15)\n",
    "ax.set_ylabel(r'$\\log\\left(\\frac{V_{fd,i}}{V_{fd,%d}}\\right)$'%j)\n",
    "ax.errorbar(TEMP_DIFF, LOG, σ_LOG, color='k', fmt='.', markersize=2, label='Data')\n",
    "ax.legend()"
   ]
  },
  {
   "cell_type": "markdown",
   "id": "324b8350-bd80-423d-b1fc-223b5a96983a",
   "metadata": {},
   "source": [
    "Dobbiamo ancora calcolare il valore dell'errore che abbiamo invece sul secondo membro (nel caso poi eseguire un plot opposto se vediamo che gli errori sono più importanti)"
   ]
  },
  {
   "cell_type": "code",
   "execution_count": 32,
   "id": "7bf704a6-85e9-4292-b5ff-52d14cd53fbc",
   "metadata": {},
   "outputs": [
    {
     "name": "stdout",
     "output_type": "stream",
     "text": [
      "ν : 0.000000000000000000000000000000 != 0.000000000000000000000000000000\n"
     ]
    }
   ],
   "source": [
    "σ_TEMP_DIFF = np.zeros_like(TEMP_DIFF)\n",
    "\n",
    "def T0i(T0, Ti, ν):\n",
    "    return ν*(1/T0-1/Ti)\n",
    "\n",
    "for i in range(len(TEMP_DIFF)):\n",
    "    σ2 = 0.0\n",
    "    σ_T0_p = np.abs(T0i(μ_T[0] + σ_T[0], μ_T[i], ν) - TEMP_DIFF[i])\n",
    "    σ_T0_n = np.abs(T0i(μ_T[0] - σ_T[0], μ_T[i], ν) - TEMP_DIFF[i])\n",
    "    \n",
    "    if np.abs(σ_T0_p - σ_T0_n) < (μ_T[0] / σ_T[0]) * np.max([σ_T0_p, σ_T0_n]):\n",
    "        σ2 += np.max([σ_T0_p, σ_T0_n])**2\n",
    "    else:\n",
    "        print('T0: %.10f != %.10f'%(σ_T0_p, σ_T0_n))\n",
    "    \n",
    "    σ_Ti_p = np.abs(T0i(μ_T[0], μ_T[i] + σ_T[i], ν) - TEMP_DIFF[i])\n",
    "    σ_Ti_n = np.abs(T0i(μ_T[0], μ_T[i] - σ_T[i], ν) - TEMP_DIFF[i])\n",
    "    \n",
    "    if np.abs(σ_Ti_p - σ_Ti_n) < (μ_T[i] / σ_T[i]) * np.max([σ_Ti_p, σ_Ti_n]):\n",
    "        σ2 += np.max([σ_Ti_p, σ_Ti_n])**2\n",
    "    else:\n",
    "        print('Ti: %.10f != %.10f'%(σ_Ti_p, σ_Ti_n))\n",
    "    \n",
    "    σ_ν_p = np.abs(T0i(μ_T[0], μ_T[i], ν + σ_ν) - TEMP_DIFF[i])\n",
    "    σ_ν_n = np.abs(T0i(μ_T[0], μ_T[i], ν - σ_ν) - TEMP_DIFF[i])\n",
    "    \n",
    "    if np.abs(σ_ν_p - σ_ν_n) < (ν / σ_ν) * np.max([σ_ν_p, σ_ν_n]):\n",
    "        σ2 += np.max([σ_ν_p, σ_ν_n])**2\n",
    "    else:\n",
    "        print('ν : %.30f != %.30f'%(σ_ν_p, σ_ν_n))\n",
    "    "
   ]
  },
  {
   "cell_type": "code",
   "execution_count": 33,
   "id": "0feb7a62-e51a-4448-a9e0-bb2015fb2324",
   "metadata": {},
   "outputs": [
    {
     "data": {
      "text/plain": [
       "666205462222222.2"
      ]
     },
     "execution_count": 33,
     "metadata": {},
     "output_type": "execute_result"
    }
   ],
   "source": [
    "ν"
   ]
  },
  {
   "cell_type": "code",
   "execution_count": 34,
   "id": "e1636060-0d6a-449a-8eda-4c2a026c155d",
   "metadata": {},
   "outputs": [
    {
     "data": {
      "text/plain": [
       "5.620743784493845e+21"
      ]
     },
     "execution_count": 34,
     "metadata": {},
     "output_type": "execute_result"
    }
   ],
   "source": [
    "σ_ν"
   ]
  },
  {
   "cell_type": "code",
   "execution_count": 35,
   "id": "801b0ade-4672-4e53-8272-a7b47c5fab65",
   "metadata": {},
   "outputs": [
    {
     "data": {
      "text/plain": [
       "299792458.0"
      ]
     },
     "execution_count": 35,
     "metadata": {},
     "output_type": "execute_result"
    }
   ],
   "source": [
    "c"
   ]
  },
  {
   "cell_type": "code",
   "execution_count": null,
   "id": "5ec37f38-4f5f-4eb9-b38c-5e4561d2c541",
   "metadata": {},
   "outputs": [],
   "source": []
  }
 ],
 "metadata": {
  "kernelspec": {
   "display_name": "Python 3",
   "language": "python",
   "name": "python3"
  },
  "language_info": {
   "codemirror_mode": {
    "name": "ipython",
    "version": 3
   },
   "file_extension": ".py",
   "mimetype": "text/x-python",
   "name": "python",
   "nbconvert_exporter": "python",
   "pygments_lexer": "ipython3",
   "version": "3.9.12"
  }
 },
 "nbformat": 4,
 "nbformat_minor": 5
}
