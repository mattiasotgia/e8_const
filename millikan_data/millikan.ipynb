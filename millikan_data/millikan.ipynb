{
 "cells": [
  {
   "cell_type": "code",
   "execution_count": 1,
   "id": "47d7b637-1ae1-466a-87db-18f172d8d05f",
   "metadata": {},
   "outputs": [
    {
     "name": "stdout",
     "output_type": "stream",
     "text": [
      "Welcome to JupyROOT 6.24/02\n"
     ]
    }
   ],
   "source": [
    "import ROOT\n",
    "\n",
    "import matplotlib as mpl\n",
    "import matplotlib.pyplot as plt\n",
    "\n",
    "import numpy as np\n",
    "import mplhep as hep\n",
    "\n",
    "plt.style.use(hep.style.ATLAS)\n",
    "\n",
    "import iminuit \n",
    "from iminuit import Minuit"
   ]
  },
  {
   "cell_type": "code",
   "execution_count": 6,
   "id": "512ccbbd-8021-47e7-b93b-c38d410077bf",
   "metadata": {},
   "outputs": [
    {
     "data": {
      "text/plain": [
       "[<matplotlib.lines.Line2D at 0x1151c0190>]"
      ]
     },
     "execution_count": 6,
     "metadata": {},
     "output_type": "execute_result"
    },
    {
     "name": "stdout",
     "output_type": "stream",
     "text": [
      "\n",
      "****************************************\n",
      "Minimizer is Minuit / Migrad\n",
      "MinFCN                    =      94.8187\n",
      "NDf                       =           65\n",
      "Edm                       =  2.82422e-07\n",
      "NCalls                    =           83\n",
      "p0                        =      1.60767   +/-   0.0195872    \t (limited)\n",
      "p1                        =     0.330449   +/-   0.0292561    \t (limited)\n",
      "p2                        =      0.27674   +/-   0.0539643    \t (limited)\n",
      "p3                        =     0.340476   +/-   0.0580849    \t (limited)\n"
     ]
    },
    {
     "name": "stderr",
     "output_type": "stream",
     "text": [
      "Warning in <TROOT::Append>: Replacing existing TH1: h_mlk (Potential memory leak).\n"
     ]
    },
    {
     "data": {
      "image/png": "[encoded data removed]",
      "text/plain": [
       "<Figure size 432x288 with 1 Axes>"
      ]
     },
     "metadata": {
      "image/png": {
       "height": 265,
       "width": 379
      },
      "needs_background": "light"
     },
     "output_type": "display_data"
    }
   ],
   "source": [
    "\n",
    "data = ROOT.TTree('mlk', '')\n",
    "data.ReadFile('Millikan.txt', 't/D')\n",
    "h_mlk = ROOT.TH1D('h_mlk', '', 50, 1.1, 14)\n",
    "data.Draw('t >> h_mlk')\n",
    "\n",
    "f = ROOT.TF1('f', '[2]*TMath::Gaus(x, [0], [1], 1) + [3]*TMath::Gaus(x, 2*[0], [1], 1) + (1-[2]-[3])*TMath::Gaus(x, 3*[0], [1], 1)')\n",
    "f.SetParameters(1.6, 0.3, 0.3, 0.3);\n",
    "f.SetParLimits(0, 1.5, 1.7)\n",
    "f.SetParLimits(1, 0, 0.5)\n",
    "f.SetParLimits(2, 0, 1)\n",
    "f.SetParLimits(3, 0, 1)\n",
    "data.UnbinnedFit('f', 't', 't<5.8');\n",
    "\n",
    "hep.histplot(h_mlk, yerr=False, color = 'k')\n",
    "N = 1000\n",
    "x = np.linspace(h_mlk.GetXaxis().GetXmin(), h_mlk.GetXaxis().GetXmax(), N)\n",
    "\n",
    "def fcn(x, p):\n",
    "    return (\n",
    "        p[2] * ROOT.TMath.Gaus(x, p[0], p[1], 1) + \n",
    "        p[3] * ROOT.TMath.Gaus(x, 2 * p[0], p[1], 1) + \n",
    "        (1 - p[2] - p[3]) * ROOT.TMath.Gaus(x, 3 * p[0], p[1], 1)\n",
    "    )\n",
    "\n",
    "p = np.array([f.GetParameter(i) for i in range(4)])\n",
    "f_mlk = np.array([fcn(x[i], p) for i in range(N)])\n",
    "plt.plot(x, 16*f_mlk, color = 'r')"
   ]
  },
  {
   "cell_type": "code",
   "execution_count": 7,
   "id": "034bc27e-b4c6-4ebd-923a-033a927eb9c0",
   "metadata": {},
   "outputs": [
    {
     "name": "stdout",
     "output_type": "stream",
     "text": [
      "e = 1.608(20)\n"
     ]
    }
   ],
   "source": [
    "from uncertainties import ufloat\n",
    "e = ufloat(f.GetParameter(0), f.GetParError(0))\n",
    "print(f'{e = :.2uS}')"
   ]
  },
  {
   "cell_type": "code",
   "execution_count": 8,
   "id": "23a02f12-a1e0-46e5-a13d-cba1a23f15d7",
   "metadata": {},
   "outputs": [
    {
     "data": {
      "text/plain": [
       "1.602176634e-19"
      ]
     },
     "execution_count": 8,
     "metadata": {},
     "output_type": "execute_result"
    }
   ],
   "source": [
    "from scipy.constants import elementary_charge\n",
    "elementary_charge"
   ]
  },
  {
   "cell_type": "code",
   "execution_count": null,
   "id": "69dcb52d-37d5-43fd-8eac-86c4bd979aee",
   "metadata": {},
   "outputs": [],
   "source": []
  }
 ],
 "metadata": {
  "kernelspec": {
   "display_name": "Python 3",
   "language": "python",
   "name": "python3"
  },
  "language_info": {
   "codemirror_mode": {
    "name": "ipython",
    "version": 3
   },
   "file_extension": ".py",
   "mimetype": "text/x-python",
   "name": "python",
   "nbconvert_exporter": "python",
   "pygments_lexer": "ipython3",
   "version": "3.9.12"
  }
 },
 "nbformat": 4,
 "nbformat_minor": 5
}
